{
 "cells": [
  {
   "cell_type": "code",
   "execution_count": 2,
   "id": "d534ba14",
   "metadata": {},
   "outputs": [],
   "source": [
    "import pandas as pd\n",
    "\n",
    "# 假设三元组的格式是 user_id, song_id, play_count\n",
    "data_path = '../../msdchallenge/kaggle_visible_evaluation_triplets.txt'\n",
    "play_counts = pd.read_csv(data_path, sep='\\t', header=None, names=['user_id', 'song_id', 'play_count'])\n"
   ]
  },
  {
   "cell_type": "code",
   "execution_count": 3,
   "id": "9661d852",
   "metadata": {},
   "outputs": [
    {
     "data": {
      "text/html": [
       "<div>\n",
       "<style scoped>\n",
       "    .dataframe tbody tr th:only-of-type {\n",
       "        vertical-align: middle;\n",
       "    }\n",
       "\n",
       "    .dataframe tbody tr th {\n",
       "        vertical-align: top;\n",
       "    }\n",
       "\n",
       "    .dataframe thead th {\n",
       "        text-align: right;\n",
       "    }\n",
       "</style>\n",
       "<table border=\"1\" class=\"dataframe\">\n",
       "  <thead>\n",
       "    <tr style=\"text-align: right;\">\n",
       "      <th></th>\n",
       "      <th>user_id</th>\n",
       "      <th>song_id</th>\n",
       "      <th>play_count</th>\n",
       "    </tr>\n",
       "  </thead>\n",
       "  <tbody>\n",
       "    <tr>\n",
       "      <th>0</th>\n",
       "      <td>fd50c4007b68a3737fe052d5a4f78ce8aa117f3d</td>\n",
       "      <td>SOBONKR12A58A7A7E0</td>\n",
       "      <td>1</td>\n",
       "    </tr>\n",
       "    <tr>\n",
       "      <th>1</th>\n",
       "      <td>fd50c4007b68a3737fe052d5a4f78ce8aa117f3d</td>\n",
       "      <td>SOEGIYH12A6D4FC0E3</td>\n",
       "      <td>1</td>\n",
       "    </tr>\n",
       "    <tr>\n",
       "      <th>2</th>\n",
       "      <td>fd50c4007b68a3737fe052d5a4f78ce8aa117f3d</td>\n",
       "      <td>SOFLJQZ12A6D4FADA6</td>\n",
       "      <td>1</td>\n",
       "    </tr>\n",
       "    <tr>\n",
       "      <th>3</th>\n",
       "      <td>fd50c4007b68a3737fe052d5a4f78ce8aa117f3d</td>\n",
       "      <td>SOHTKMO12AB01843B0</td>\n",
       "      <td>1</td>\n",
       "    </tr>\n",
       "    <tr>\n",
       "      <th>4</th>\n",
       "      <td>fd50c4007b68a3737fe052d5a4f78ce8aa117f3d</td>\n",
       "      <td>SODQZCY12A6D4F9D11</td>\n",
       "      <td>1</td>\n",
       "    </tr>\n",
       "  </tbody>\n",
       "</table>\n",
       "</div>"
      ],
      "text/plain": [
       "                                    user_id             song_id  play_count\n",
       "0  fd50c4007b68a3737fe052d5a4f78ce8aa117f3d  SOBONKR12A58A7A7E0           1\n",
       "1  fd50c4007b68a3737fe052d5a4f78ce8aa117f3d  SOEGIYH12A6D4FC0E3           1\n",
       "2  fd50c4007b68a3737fe052d5a4f78ce8aa117f3d  SOFLJQZ12A6D4FADA6           1\n",
       "3  fd50c4007b68a3737fe052d5a4f78ce8aa117f3d  SOHTKMO12AB01843B0           1\n",
       "4  fd50c4007b68a3737fe052d5a4f78ce8aa117f3d  SODQZCY12A6D4F9D11           1"
      ]
     },
     "execution_count": 3,
     "metadata": {},
     "output_type": "execute_result"
    }
   ],
   "source": [
    "play_counts.head()"
   ]
  },
  {
   "cell_type": "code",
   "execution_count": 9,
   "id": "4040f176",
   "metadata": {},
   "outputs": [
    {
     "data": {
      "text/plain": [
       "163206"
      ]
     },
     "execution_count": 9,
     "metadata": {},
     "output_type": "execute_result"
    }
   ],
   "source": [
    "play_counts.song_id.nunique()"
   ]
  },
  {
   "cell_type": "code",
   "execution_count": 4,
   "id": "4a95e1d5",
   "metadata": {},
   "outputs": [],
   "source": [
    "# 假设你已经有了一个按时间顺序排列的DataFrame\n",
    "# 你可能需要将用户ID和歌曲ID转换为整数索引\n",
    "from sklearn.preprocessing import LabelEncoder\n",
    "\n",
    "user_encoder = LabelEncoder()\n",
    "song_encoder = LabelEncoder()\n",
    "\n",
    "play_counts['user_id'] = user_encoder.fit_transform(play_counts['user_id'])\n",
    "play_counts['song_id'] = song_encoder.fit_transform(play_counts['song_id'])\n",
    "\n",
    "# 创建序列数据\n",
    "sequences = play_counts.groupby('user_id')['song_id'].apply(list)\n"
   ]
  },
  {
   "cell_type": "code",
   "execution_count": 5,
   "id": "222ded16",
   "metadata": {},
   "outputs": [
    {
     "data": {
      "text/plain": [
       "user_id\n",
       "0         [2308, 91623, 148871, 119832, 148577, 119053, ...\n",
       "1         [111724, 59865, 32804, 149534, 97735, 111621, ...\n",
       "2         [74256, 116664, 144684, 43043, 59469, 128830, ...\n",
       "3         [141634, 35392, 148276, 137649, 42897, 149006,...\n",
       "4         [156258, 102662, 88287, 66737, 111364, 10832, ...\n",
       "                                ...                        \n",
       "109995    [159528, 92419, 102403, 151527, 22724, 70465, ...\n",
       "109996           [72358, 32804, 95486, 76047, 23608, 71500]\n",
       "109997    [70754, 90297, 142057, 115770, 124662, 39410, ...\n",
       "109998    [151693, 40937, 123662, 80698, 15585, 2335, 10...\n",
       "109999    [23055, 20099, 70031, 71307, 57955, 1652, 1626...\n",
       "Name: song_id, Length: 110000, dtype: object"
      ]
     },
     "execution_count": 5,
     "metadata": {},
     "output_type": "execute_result"
    }
   ],
   "source": [
    "sequences"
   ]
  },
  {
   "cell_type": "code",
   "execution_count": 6,
   "id": "549fd9a4",
   "metadata": {},
   "outputs": [],
   "source": [
    "from sklearn.model_selection import train_test_split\n",
    "\n",
    "train_sequences, test_sequences = train_test_split(sequences, test_size=0.2)\n"
   ]
  },
  {
   "cell_type": "code",
   "execution_count": 11,
   "id": "08004432",
   "metadata": {},
   "outputs": [],
   "source": [
    "from keras.models import Sequential\n",
    "from keras.layers import Embedding, LSTM, Dense\n",
    "\n",
    "# 假设你已经确定了最大序列长度 max_sequence_length 和总歌曲数 num_songs\n",
    "num_songs=163206\n",
    "max_sequence_length=10\n",
    "\n",
    "model = Sequential()\n",
    "model.add(Embedding(input_dim=num_songs, output_dim=50, input_length=max_sequence_length))\n",
    "model.add(LSTM(100))\n",
    "model.add(Dense(num_songs, activation='softmax'))\n",
    "\n",
    "model.compile(loss='sparse_categorical_crossentropy', optimizer='adam', metrics=['accuracy'])\n"
   ]
  },
  {
   "cell_type": "code",
   "execution_count": 13,
   "id": "83a0b920",
   "metadata": {},
   "outputs": [
    {
     "name": "stdout",
     "output_type": "stream",
     "text": [
      "Epoch 1/5\n",
      "12780/12780 [==============================] - 810s 63ms/step - loss: 10.9528 - accuracy: 0.0024 - val_loss: 10.8852 - val_accuracy: 0.0025\n",
      "Epoch 2/5\n",
      "12780/12780 [==============================] - 814s 64ms/step - loss: 10.4002 - accuracy: 0.0030 - val_loss: 11.0785 - val_accuracy: 0.0030\n",
      "Epoch 3/5\n",
      "12780/12780 [==============================] - 843s 66ms/step - loss: 9.9154 - accuracy: 0.0045 - val_loss: 11.2992 - val_accuracy: 0.0034\n",
      "Epoch 4/5\n",
      "12780/12780 [==============================] - 848s 66ms/step - loss: 9.2588 - accuracy: 0.0112 - val_loss: 11.5359 - val_accuracy: 0.0028\n",
      "Epoch 5/5\n",
      "12780/12780 [==============================] - 848s 66ms/step - loss: 8.6016 - accuracy: 0.0271 - val_loss: 11.7293 - val_accuracy: 0.0028\n"
     ]
    },
    {
     "data": {
      "text/plain": [
       "<keras.src.callbacks.History at 0x3134ca690>"
      ]
     },
     "execution_count": 13,
     "metadata": {},
     "output_type": "execute_result"
    }
   ],
   "source": [
    "import numpy as np\n",
    "\n",
    "def generate_training_sequences(sequences, window_size=10):\n",
    "    X = []\n",
    "    y = []\n",
    "    # 对于每个用户的序列\n",
    "    for sequence in sequences:\n",
    "        # 创建多个训练样本\n",
    "        for i in range(len(sequence) - window_size):\n",
    "            # 输入是当前位置之前的`window_size`个歌曲ID\n",
    "            X.append(sequence[i:i+window_size])\n",
    "            # 输出是紧接着的下一个歌曲ID\n",
    "            y.append(sequence[i+window_size])\n",
    "    # 将列表转换为NumPy数组\n",
    "    X = np.array(X)\n",
    "    y = np.array(y)\n",
    "    return X, y\n",
    "\n",
    "\n",
    "\n",
    "\n",
    "# 你可能需要编写一个函数来生成训练数据和标签\n",
    "# 这里只是一个简单的例子\n",
    "X_train, y_train = generate_training_sequences(train_sequences)\n",
    "X_test, y_test = generate_training_sequences(test_sequences)\n",
    "\n",
    "model.fit(X_train, y_train, validation_data=(X_test, y_test), epochs=5)\n"
   ]
  },
  {
   "cell_type": "code",
   "execution_count": 15,
   "id": "bfe92110",
   "metadata": {},
   "outputs": [
    {
     "ename": "TypeError",
     "evalue": "file must have a 'write' attribute",
     "output_type": "error",
     "traceback": [
      "\u001b[0;31m---------------------------------------------------------------------------\u001b[0m",
      "\u001b[0;31mTypeError\u001b[0m                                 Traceback (most recent call last)",
      "Cell \u001b[0;32mIn[15], line 2\u001b[0m\n\u001b[1;32m      1\u001b[0m \u001b[38;5;28;01mimport\u001b[39;00m \u001b[38;5;21;01mpickle\u001b[39;00m\n\u001b[0;32m----> 2\u001b[0m pickle\u001b[38;5;241m.\u001b[39mdump(\u001b[38;5;124m'\u001b[39m\u001b[38;5;124mRNN_model\u001b[39m\u001b[38;5;124m'\u001b[39m,model)\n",
      "\u001b[0;31mTypeError\u001b[0m: file must have a 'write' attribute"
     ]
    }
   ],
   "source": [
    "import pickle\n",
    "pickle.dump('RNN_model',model)"
   ]
  },
  {
   "cell_type": "code",
   "execution_count": null,
   "id": "8c4d2e9e",
   "metadata": {},
   "outputs": [],
   "source": []
  }
 ],
 "metadata": {
  "kernelspec": {
   "display_name": "Python 3 (ipykernel)",
   "language": "python",
   "name": "python3"
  },
  "language_info": {
   "codemirror_mode": {
    "name": "ipython",
    "version": 3
   },
   "file_extension": ".py",
   "mimetype": "text/x-python",
   "name": "python",
   "nbconvert_exporter": "python",
   "pygments_lexer": "ipython3",
   "version": "3.11.4"
  },
  "toc": {
   "base_numbering": 1,
   "nav_menu": {},
   "number_sections": true,
   "sideBar": true,
   "skip_h1_title": false,
   "title_cell": "Table of Contents",
   "title_sidebar": "Contents",
   "toc_cell": false,
   "toc_position": {},
   "toc_section_display": true,
   "toc_window_display": false
  }
 },
 "nbformat": 4,
 "nbformat_minor": 5
}
